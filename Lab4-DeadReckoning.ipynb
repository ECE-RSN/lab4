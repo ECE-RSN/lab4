{
 "cells": [
  {
   "cell_type": "markdown",
   "id": "8706aa3b",
   "metadata": {},
   "source": [
    "# EECE 5554 Lab 4: Introduction to Dead Reckoning\n",
    "\n",
    "## Learning Objectives\n",
    "\n",
    "Lab 4 introduces the principles of dead reckoning using walking data. This lab will demonstrate why dead reckoning is a hard problem! Please note that we do not expect you to have beautiful results-- the goal here is to learn the strengths and weaknesses of dead reckoning and IMU data before you try it in NUance for Lab 5!\n",
    "\n",
    "### Goals and Objectives\n",
    "We would like to understand the outputs from the VectorNav IMU magnetometer, gyroscope, and accelerometer during walking. We will attempt to use these data to reconstruct a walking path. \n",
    "\n",
    "### By the end of this lab, we expect that a well-prepared student will be able to:\n",
    "- Calculate a calibration from magnetometer data using least squares\n",
    "- Plot gyro and accelerometer data and time integrals of these data\n",
    "- Reason about sources of non-idealities and error in data collection\n",
    "\n",
    "### Collaboration Policy for this Lab\n",
    "- Everyone in the team needs to generate their own figures \n",
    "- Data will be collected as a group\n",
    "\n",
    "## Information of Note\n",
    "\n",
    "### Hardware: \n",
    "- Vectornav VN-100 IMU \n",
    "\n",
    "### Software:\n",
    "- None\n",
    "\n",
    "### The IMU driver:\n",
    "You will use your IMU driver from Lab 3.\n",
    "\n",
    "### Individual and team work: \n",
    "Individual work: Make your plots as described below <br>\n",
    "Team work: Data collection\n",
    "\n",
    "### Data sets: \n",
    "- One data set of walking in a circle\n",
    "- One data set of walking in a square\n",
    "- Videos from both these trials \n",
    "\n",
    "### Repository structure:\n",
    "You will not need to push anything to github for this assignment\n"
   ]
  },
  {
   "cell_type": "markdown",
   "id": "f72d04e4",
   "metadata": {},
   "source": [
    "### What, where, and how to submit: \n",
    "\n",
    "Use the Lab 4 “quiz” on Canvas to upload your plots.  "
   ]
  },
  {
   "cell_type": "markdown",
   "id": "60b00351",
   "metadata": {},
   "source": [
    "## Onto the Lab!\n"
   ]
  },
  {
   "cell_type": "markdown",
   "id": "5cbed95c",
   "metadata": {},
   "source": [
    "## Team work: collect two datasets of walking data using the IMU driver from Lab 3 \n",
    "\n",
    "### Step 1: Go outside to an area where you can walk in a circle of at least 5 m diameter.\n",
    "- One teammate should hold the IMU, one should hold the laptop, and one should record a video while you are walking. \n",
    "- Try to hold the IMU in the same position relative to the laptop and watch the cable length.\n",
    "- Begin recording a ROSbag.\n",
    "- Walk in a circle at constant pace for 3-5 revolutions, picking a landmark to revolve around (like a rock, tree, etc).\n",
    "\n",
    "You may wish to look at the analysis required below and think about the best way to position and hold the VectorNav to make your life easier before you begin to collect data!\n",
    "\n",
    "### Step 2: Repeat the above steps with a square about 5 m on a side. \n",
    "- Try to face in a cardinal direction (N, E, S, W) and make a precise 90 degree turn. \n",
    "\n",
    "Once you have completed the datasets, share the .bag and video among the group.\n",
    "\n",
    "### Analysis: Using the ROSbag data, your video, and your knowledge of the area:\n",
    "- Plot the X vs. Y components of magnetic field and apply calibration to your dataset. Plot two sub-figs before and after calibration (Fig. 1)\n",
    "- Plot rotational rate and total rotation (integrate once) on two subplots vs. time on all three axes (Fig. 2-4)\n",
    "- Plot acceleration, velocity (integrate once), and displacement (integrate twice) vs. time as three subplots on all three axes (Fig. 5-7)\n",
    "- Repeat analyses above with the square dataset, using the calibration from your circle dataset. You do not need to re-calibrate. (Fig. 8-14)\n",
    "- Make a short statement about whether your results \"make sense\" given the ground truth recording of your video.\n",
    "\n",
    " "
   ]
  },
  {
   "cell_type": "markdown",
   "id": "dfff82e0-4b45-4691-9f42-74f5f14ae91a",
   "metadata": {},
   "source": [
    "### Lab Scoring\n",
    "\n",
    "Please use the Canvas quiz to upload these plots. You do not need to upload the videos. The quizzes will be scored according to the information below:\n",
    "\n",
    "| Data set | Deliverable | Points |\n",
    "| :---- | :---- | :---- |\n",
    "| Circle | X vs. Y components of magnetic field | 6 | \n",
    "| Circle | Rotational rate and rotation on two subplots vs. time, X, Y, Z| 18 | \n",
    "| Circle | Acceleration, velocity, and displacement vs. time, X, Y, Z | 27 | \n",
    "| Square | X vs. Y components of magnetic field | 3 | \n",
    "| Square | Rotational rate and rotation on two subplots vs. time, X, Y, Z| 18 | \n",
    "| Square | Acceleration, velocity, and displacement vs. time, X, Y, Z | 27 | \n",
    "|        | Comment on results | 1 |"
   ]
  },
  {
   "cell_type": "code",
   "execution_count": null,
   "id": "289add00",
   "metadata": {},
   "outputs": [],
   "source": []
  }
 ],
 "metadata": {
  "kernelspec": {
   "display_name": "Python 3 (ipykernel)",
   "language": "python",
   "name": "python3"
  },
  "language_info": {
   "codemirror_mode": {
    "name": "ipython",
    "version": 3
   },
   "file_extension": ".py",
   "mimetype": "text/x-python",
   "name": "python",
   "nbconvert_exporter": "python",
   "pygments_lexer": "ipython3",
   "version": "3.8.10"
  }
 },
 "nbformat": 4,
 "nbformat_minor": 5
}
